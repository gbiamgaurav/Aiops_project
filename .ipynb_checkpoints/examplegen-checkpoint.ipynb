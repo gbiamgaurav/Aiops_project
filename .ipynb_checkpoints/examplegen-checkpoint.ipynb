{
 "cells": [
  {
   "cell_type": "code",
   "execution_count": 5,
   "id": "ad585625-9b66-441c-895f-a91f1ddc40a1",
   "metadata": {},
   "outputs": [
    {
     "name": "stdout",
     "output_type": "stream",
     "text": [
      " Volume in drive D is Personal Vault\n",
      " Volume Serial Number is E2BB-A22E\n",
      "\n",
      " Directory of D:\\AIOPS_Project\\Aiops_project\\data\n",
      "\n",
      "14-12-2022  10:19    <DIR>          .\n",
      "14-12-2022  13:25    <DIR>          ..\n",
      "14-12-2022  10:19         1,937,669 data.csv\n",
      "               1 File(s)      1,937,669 bytes\n",
      "               2 Dir(s)  324,319,502,336 bytes free\n"
     ]
    }
   ],
   "source": [
    "ls data"
   ]
  },
  {
   "cell_type": "code",
   "execution_count": 6,
   "id": "d283eae9-e92f-4f50-b742-e120dc4b63f5",
   "metadata": {},
   "outputs": [],
   "source": [
    "import os"
   ]
  },
  {
   "cell_type": "code",
   "execution_count": 15,
   "id": "ff33f320-bfe0-418f-acbe-89feb772f874",
   "metadata": {},
   "outputs": [],
   "source": [
    "csv_file_path = os.path.join(os.getcwd(), \"data\", \"data.csv\")"
   ]
  },
  {
   "cell_type": "code",
   "execution_count": 16,
   "id": "6f328315-65dd-4c1d-b51e-d0c1a245c6a7",
   "metadata": {},
   "outputs": [
    {
     "data": {
      "text/plain": [
       "True"
      ]
     },
     "execution_count": 16,
     "metadata": {},
     "output_type": "execute_result"
    }
   ],
   "source": [
    "os.path.exists(csv_file_path)"
   ]
  },
  {
   "cell_type": "code",
   "execution_count": 17,
   "id": "fbd0732e-4331-4b54-affa-4b954e092095",
   "metadata": {},
   "outputs": [
    {
     "data": {
      "text/plain": [
       "'D:\\\\AIOPS_Project\\\\Aiops_project\\\\data\\\\data.csv'"
      ]
     },
     "execution_count": 17,
     "metadata": {},
     "output_type": "execute_result"
    }
   ],
   "source": [
    "csv_file_path"
   ]
  },
  {
   "cell_type": "code",
   "execution_count": 18,
   "id": "c85b413d-2c7f-4c1b-8e66-0d52958819aa",
   "metadata": {},
   "outputs": [],
   "source": [
    "import csv"
   ]
  },
  {
   "cell_type": "code",
   "execution_count": 20,
   "id": "1174ffe3-c7e5-4387-853f-9a8c939f4f07",
   "metadata": {},
   "outputs": [
    {
     "name": "stdout",
     "output_type": "stream",
     "text": [
      "OrderedDict([('pickup_community_area', '60'), ('fare', '27.05'), ('trip_start_month', '10'), ('trip_start_hour', '2'), ('trip_start_day', '3'), ('trip_start_timestamp', '1380593700'), ('pickup_latitude', '41.836150155'), ('pickup_longitude', '-87.648787952'), ('dropoff_latitude', ''), ('dropoff_longitude', ''), ('trip_miles', '12.6'), ('pickup_census_tract', ''), ('dropoff_census_tract', ''), ('payment_type', 'Cash'), ('company', 'Taxi Affiliation Services'), ('trip_seconds', '1380'), ('dropoff_community_area', ''), ('tips', '0.0')])\n"
     ]
    }
   ],
   "source": [
    "with open(csv_file_path) as csv_file:\n",
    "    reader = csv.DictReader(csv_file, delimiter=\",\", quotechar='\"')\n",
    "    for row in reader:\n",
    "        print(row)\n",
    "        break"
   ]
  },
  {
   "cell_type": "code",
   "execution_count": 21,
   "id": "fe0cea63-8812-47f6-8f74-30bdf26fa4e1",
   "metadata": {},
   "outputs": [
    {
     "data": {
      "text/plain": [
       "OrderedDict([('pickup_community_area', '60'),\n",
       "             ('fare', '27.05'),\n",
       "             ('trip_start_month', '10'),\n",
       "             ('trip_start_hour', '2'),\n",
       "             ('trip_start_day', '3'),\n",
       "             ('trip_start_timestamp', '1380593700'),\n",
       "             ('pickup_latitude', '41.836150155'),\n",
       "             ('pickup_longitude', '-87.648787952'),\n",
       "             ('dropoff_latitude', ''),\n",
       "             ('dropoff_longitude', ''),\n",
       "             ('trip_miles', '12.6'),\n",
       "             ('pickup_census_tract', ''),\n",
       "             ('dropoff_census_tract', ''),\n",
       "             ('payment_type', 'Cash'),\n",
       "             ('company', 'Taxi Affiliation Services'),\n",
       "             ('trip_seconds', '1380'),\n",
       "             ('dropoff_community_area', ''),\n",
       "             ('tips', '0.0')])"
      ]
     },
     "execution_count": 21,
     "metadata": {},
     "output_type": "execute_result"
    }
   ],
   "source": [
    "row"
   ]
  },
  {
   "cell_type": "code",
   "execution_count": 22,
   "id": "735b17db-5915-4260-8c51-0806fe728f43",
   "metadata": {},
   "outputs": [
    {
     "data": {
      "text/plain": [
       "'60'"
      ]
     },
     "execution_count": 22,
     "metadata": {},
     "output_type": "execute_result"
    }
   ],
   "source": [
    "row['pickup_community_area']"
   ]
  },
  {
   "cell_type": "code",
   "execution_count": 23,
   "id": "8d8f532a-d0b2-4941-9702-088c843a31ea",
   "metadata": {},
   "outputs": [],
   "source": [
    "import tensorflow as tf"
   ]
  },
  {
   "cell_type": "code",
   "execution_count": 26,
   "id": "3c0b92f2-b535-4f5e-a5f1-d0e28ca93060",
   "metadata": {},
   "outputs": [],
   "source": [
    "tf_record_dir = os.path.join(os.getcwd(), \"tf_record_files\")"
   ]
  },
  {
   "cell_type": "code",
   "execution_count": 27,
   "id": "e106591a-98c2-4051-8aae-919d8fbd3a15",
   "metadata": {},
   "outputs": [],
   "source": [
    "os.makedirs(tf_record_dir, exist_ok=True)"
   ]
  },
  {
   "cell_type": "code",
   "execution_count": 28,
   "id": "a2c87a5d-48c1-46e3-9b7d-837459343c72",
   "metadata": {},
   "outputs": [],
   "source": [
    "tf_record_file_name = os.path.join(tf_record_dir, \"data.tfrecord\")"
   ]
  },
  {
   "cell_type": "code",
   "execution_count": 30,
   "id": "13c0e097-5893-425e-8133-6758aeb572fc",
   "metadata": {},
   "outputs": [],
   "source": [
    "tf_record_writer = tf.io.TFRecordWriter(tf_record_file_name)"
   ]
  },
  {
   "cell_type": "code",
   "execution_count": 31,
   "id": "16b0f3ec-e503-4e1d-9914-e5e6d745bded",
   "metadata": {},
   "outputs": [],
   "source": [
    "def _bytes_features(value):\n",
    "    return tf.train.BytesList(value=[value])"
   ]
  },
  {
   "cell_type": "code",
   "execution_count": 32,
   "id": "40dd6cf8-2d5e-4e18-a538-0efd2054d396",
   "metadata": {},
   "outputs": [],
   "source": [
    "def _int64_feature(value):\n",
    "    return tf.train.Int64List(value=[value])"
   ]
  },
  {
   "cell_type": "code",
   "execution_count": 33,
   "id": "579f8e81-b6ed-41d1-8787-ddcad2320adf",
   "metadata": {},
   "outputs": [],
   "source": [
    "def _float_feature(value):\n",
    "    return tf.train.FloatList(value=[value])"
   ]
  },
  {
   "cell_type": "code",
   "execution_count": null,
   "id": "45b3b994-81dd-431f-8291-2d8f9ac5bffe",
   "metadata": {},
   "outputs": [],
   "source": []
  },
  {
   "cell_type": "code",
   "execution_count": null,
   "id": "7ef87ff5-d5f4-479b-837a-3a391e7778a1",
   "metadata": {},
   "outputs": [],
   "source": []
  }
 ],
 "metadata": {
  "kernelspec": {
   "display_name": "Python 3 (ipykernel)",
   "language": "python",
   "name": "python3"
  },
  "language_info": {
   "codemirror_mode": {
    "name": "ipython",
    "version": 3
   },
   "file_extension": ".py",
   "mimetype": "text/x-python",
   "name": "python",
   "nbconvert_exporter": "python",
   "pygments_lexer": "ipython3",
   "version": "3.7.0"
  }
 },
 "nbformat": 4,
 "nbformat_minor": 5
}
