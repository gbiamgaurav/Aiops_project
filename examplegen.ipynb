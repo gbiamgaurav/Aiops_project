{
 "cells": [
  {
   "cell_type": "code",
   "execution_count": 1,
   "id": "ad585625-9b66-441c-895f-a91f1ddc40a1",
   "metadata": {},
   "outputs": [
    {
     "name": "stdout",
     "output_type": "stream",
     "text": [
      " Volume in drive D is Personal Vault\n",
      " Volume Serial Number is E2BB-A22E\n",
      "\n",
      " Directory of D:\\AIOPS_Project\\Aiops_project\\data\n",
      "\n",
      "14-12-2022  10:19    <DIR>          .\n",
      "16-12-2022  10:25    <DIR>          ..\n",
      "14-12-2022  10:19         1,937,669 data.csv\n",
      "               1 File(s)      1,937,669 bytes\n",
      "               2 Dir(s)  324,319,481,856 bytes free\n"
     ]
    }
   ],
   "source": [
    "ls data"
   ]
  },
  {
   "cell_type": "code",
   "execution_count": 2,
   "id": "d283eae9-e92f-4f50-b742-e120dc4b63f5",
   "metadata": {},
   "outputs": [],
   "source": [
    "import os"
   ]
  },
  {
   "cell_type": "code",
   "execution_count": 3,
   "id": "ff33f320-bfe0-418f-acbe-89feb772f874",
   "metadata": {},
   "outputs": [],
   "source": [
    "csv_file_path = os.path.join(os.getcwd(), \"data\", \"data.csv\")"
   ]
  },
  {
   "cell_type": "code",
   "execution_count": 4,
   "id": "6f328315-65dd-4c1d-b51e-d0c1a245c6a7",
   "metadata": {},
   "outputs": [
    {
     "data": {
      "text/plain": [
       "True"
      ]
     },
     "execution_count": 4,
     "metadata": {},
     "output_type": "execute_result"
    }
   ],
   "source": [
    "os.path.exists(csv_file_path)"
   ]
  },
  {
   "cell_type": "code",
   "execution_count": 5,
   "id": "fbd0732e-4331-4b54-affa-4b954e092095",
   "metadata": {},
   "outputs": [
    {
     "data": {
      "text/plain": [
       "'D:\\\\AIOPS_Project\\\\Aiops_project\\\\data\\\\data.csv'"
      ]
     },
     "execution_count": 5,
     "metadata": {},
     "output_type": "execute_result"
    }
   ],
   "source": [
    "csv_file_path"
   ]
  },
  {
   "cell_type": "code",
   "execution_count": 6,
   "id": "c85b413d-2c7f-4c1b-8e66-0d52958819aa",
   "metadata": {},
   "outputs": [],
   "source": [
    "import csv"
   ]
  },
  {
   "cell_type": "code",
   "execution_count": 7,
   "id": "1174ffe3-c7e5-4387-853f-9a8c939f4f07",
   "metadata": {},
   "outputs": [
    {
     "name": "stdout",
     "output_type": "stream",
     "text": [
      "OrderedDict([('pickup_community_area', '60'), ('fare', '27.05'), ('trip_start_month', '10'), ('trip_start_hour', '2'), ('trip_start_day', '3'), ('trip_start_timestamp', '1380593700'), ('pickup_latitude', '41.836150155'), ('pickup_longitude', '-87.648787952'), ('dropoff_latitude', ''), ('dropoff_longitude', ''), ('trip_miles', '12.6'), ('pickup_census_tract', ''), ('dropoff_census_tract', ''), ('payment_type', 'Cash'), ('company', 'Taxi Affiliation Services'), ('trip_seconds', '1380'), ('dropoff_community_area', ''), ('tips', '0.0')])\n"
     ]
    }
   ],
   "source": [
    "with open(csv_file_path) as csv_file:\n",
    "    reader = csv.DictReader(csv_file, delimiter=\",\", quotechar='\"')\n",
    "    for row in reader:\n",
    "        print(row)\n",
    "        break"
   ]
  },
  {
   "cell_type": "code",
   "execution_count": 8,
   "id": "fe0cea63-8812-47f6-8f74-30bdf26fa4e1",
   "metadata": {},
   "outputs": [
    {
     "data": {
      "text/plain": [
       "OrderedDict([('pickup_community_area', '60'),\n",
       "             ('fare', '27.05'),\n",
       "             ('trip_start_month', '10'),\n",
       "             ('trip_start_hour', '2'),\n",
       "             ('trip_start_day', '3'),\n",
       "             ('trip_start_timestamp', '1380593700'),\n",
       "             ('pickup_latitude', '41.836150155'),\n",
       "             ('pickup_longitude', '-87.648787952'),\n",
       "             ('dropoff_latitude', ''),\n",
       "             ('dropoff_longitude', ''),\n",
       "             ('trip_miles', '12.6'),\n",
       "             ('pickup_census_tract', ''),\n",
       "             ('dropoff_census_tract', ''),\n",
       "             ('payment_type', 'Cash'),\n",
       "             ('company', 'Taxi Affiliation Services'),\n",
       "             ('trip_seconds', '1380'),\n",
       "             ('dropoff_community_area', ''),\n",
       "             ('tips', '0.0')])"
      ]
     },
     "execution_count": 8,
     "metadata": {},
     "output_type": "execute_result"
    }
   ],
   "source": [
    "row"
   ]
  },
  {
   "cell_type": "code",
   "execution_count": 9,
   "id": "735b17db-5915-4260-8c51-0806fe728f43",
   "metadata": {},
   "outputs": [
    {
     "data": {
      "text/plain": [
       "'60'"
      ]
     },
     "execution_count": 9,
     "metadata": {},
     "output_type": "execute_result"
    }
   ],
   "source": [
    "row['pickup_community_area']"
   ]
  },
  {
   "cell_type": "code",
   "execution_count": 10,
   "id": "8d8f532a-d0b2-4941-9702-088c843a31ea",
   "metadata": {},
   "outputs": [],
   "source": [
    "import tensorflow as tf"
   ]
  },
  {
   "cell_type": "code",
   "execution_count": 11,
   "id": "3c0b92f2-b535-4f5e-a5f1-d0e28ca93060",
   "metadata": {},
   "outputs": [],
   "source": [
    "tf_record_dir = os.path.join(os.getcwd(), \"tf_record_files\")"
   ]
  },
  {
   "cell_type": "code",
   "execution_count": 12,
   "id": "e106591a-98c2-4051-8aae-919d8fbd3a15",
   "metadata": {},
   "outputs": [],
   "source": [
    "os.makedirs(tf_record_dir, exist_ok=True)"
   ]
  },
  {
   "cell_type": "code",
   "execution_count": 13,
   "id": "a2c87a5d-48c1-46e3-9b7d-837459343c72",
   "metadata": {},
   "outputs": [],
   "source": [
    "tf_record_file_name = os.path.join(tf_record_dir, \"data.tfrecord\")"
   ]
  },
  {
   "cell_type": "code",
   "execution_count": 14,
   "id": "13c0e097-5893-425e-8133-6758aeb572fc",
   "metadata": {},
   "outputs": [],
   "source": [
    "tf_record_writer = tf.io.TFRecordWriter(tf_record_file_name)"
   ]
  },
  {
   "cell_type": "code",
   "execution_count": 30,
   "id": "16b0f3ec-e503-4e1d-9914-e5e6d745bded",
   "metadata": {},
   "outputs": [],
   "source": [
    "def _bytes_features(value):\n",
    "    value=value.encode()\n",
    "    return tf.train.Feature(bytes_list=tf.train.BytesList(value=[value]))"
   ]
  },
  {
   "cell_type": "code",
   "execution_count": 31,
   "id": "40dd6cf8-2d5e-4e18-a538-0efd2054d396",
   "metadata": {},
   "outputs": [],
   "source": [
    "def _int64_feature(value):\n",
    "    return tf.train.Feature(int64_list =tf.train.Int64List(value=[value]))"
   ]
  },
  {
   "cell_type": "code",
   "execution_count": 32,
   "id": "579f8e81-b6ed-41d1-8787-ddcad2320adf",
   "metadata": {},
   "outputs": [],
   "source": [
    "def _float_feature(value):\n",
    "    return tf.train.Feature(float_list =tf.train.FloatList(value=[value]))"
   ]
  },
  {
   "cell_type": "code",
   "execution_count": 18,
   "id": "45b3b994-81dd-431f-8291-2d8f9ac5bffe",
   "metadata": {},
   "outputs": [
    {
     "data": {
      "text/plain": [
       "value: \"gaurav\""
      ]
     },
     "execution_count": 18,
     "metadata": {},
     "output_type": "execute_result"
    }
   ],
   "source": [
    "_bytes_features(value=\"gaurav\")"
   ]
  },
  {
   "cell_type": "code",
   "execution_count": 19,
   "id": "7ef87ff5-d5f4-479b-837a-3a391e7778a1",
   "metadata": {},
   "outputs": [
    {
     "data": {
      "text/plain": [
       "value: 64"
      ]
     },
     "execution_count": 19,
     "metadata": {},
     "output_type": "execute_result"
    }
   ],
   "source": [
    "_int64_feature(value=64)"
   ]
  },
  {
   "cell_type": "code",
   "execution_count": 20,
   "id": "3b0ac8de-f73f-416c-a8b3-afd49256146c",
   "metadata": {},
   "outputs": [
    {
     "data": {
      "text/plain": [
       "value: 3.0"
      ]
     },
     "execution_count": 20,
     "metadata": {},
     "output_type": "execute_result"
    }
   ],
   "source": [
    "_float_feature(value=3.0)"
   ]
  },
  {
   "cell_type": "code",
   "execution_count": 41,
   "id": "88e3ca5d-41aa-45f6-b89a-c2f6ad4356e8",
   "metadata": {},
   "outputs": [],
   "source": [
    "with open(csv_file_path) as csv_file:\n",
    "    reader = csv.DictReader(csv_file, delimiter=\",\", quotechar='\"')\n",
    "    for row in reader:\n",
    "        feature={\n",
    "            'pickup_community_area': _bytes_features(row['pickup_community_area']),\n",
    "            'trip_start_month': _int64_feature(int(row['trip_start_month'])),\n",
    "            'fare': _float_feature(float(row['fare'])),    \n",
    "        }\n",
    "        \n",
    "        features = tf.train.Features(feature=feature)\n",
    "        example = tf.train.Example(features=features)\n",
    "        \n",
    "        tf_record_writer.write(example.SerializeToString())\n",
    "        \n",
    "tf_record_writer.close()"
   ]
  },
  {
   "cell_type": "code",
   "execution_count": 38,
   "id": "90816730-7997-4124-bc1e-284d3cb31820",
   "metadata": {},
   "outputs": [
    {
     "data": {
      "text/plain": [
       "{'pickup_community_area': bytes_list {\n",
       "   value: \"61\"\n",
       " },\n",
       " 'trip_start_month': int64_list {\n",
       "   value: 4\n",
       " },\n",
       " 'fare': float_list {\n",
       "   value: 5.650000095367432\n",
       " }}"
      ]
     },
     "execution_count": 38,
     "metadata": {},
     "output_type": "execute_result"
    }
   ],
   "source": [
    "feature"
   ]
  },
  {
   "cell_type": "code",
   "execution_count": null,
   "id": "ed9f0f56-b250-4194-b7a9-ed85d0fa995d",
   "metadata": {},
   "outputs": [],
   "source": []
  },
  {
   "cell_type": "code",
   "execution_count": 22,
   "id": "257ce868-97c2-4eb4-87cf-ea10b666a717",
   "metadata": {},
   "outputs": [
    {
     "data": {
      "text/plain": [
       "bytes_list {\n",
       "  value: \"gaurav\"\n",
       "}"
      ]
     },
     "execution_count": 22,
     "metadata": {},
     "output_type": "execute_result"
    }
   ],
   "source": [
    "tf.train.Feature(bytes_list=_bytes_features(\"gaurav\"))"
   ]
  },
  {
   "cell_type": "code",
   "execution_count": 23,
   "id": "9f54c57b-7511-48f9-8941-836554450231",
   "metadata": {},
   "outputs": [
    {
     "data": {
      "text/plain": [
       "feature {\n",
       "  key: \"name\"\n",
       "  value {\n",
       "    bytes_list {\n",
       "      value: \"gaurav\"\n",
       "    }\n",
       "  }\n",
       "}"
      ]
     },
     "execution_count": 23,
     "metadata": {},
     "output_type": "execute_result"
    }
   ],
   "source": [
    "tf.train.Features(feature={\"name\": tf.train.Feature(bytes_list=_bytes_features(\"gaurav\"))})"
   ]
  },
  {
   "cell_type": "code",
   "execution_count": 24,
   "id": "774a10aa-ffa1-4686-a301-b0ee4175b6e6",
   "metadata": {},
   "outputs": [
    {
     "data": {
      "text/plain": [
       "'60'"
      ]
     },
     "execution_count": 24,
     "metadata": {},
     "output_type": "execute_result"
    }
   ],
   "source": [
    "row['pickup_community_area']"
   ]
  },
  {
   "cell_type": "code",
   "execution_count": 27,
   "id": "4797626e-c555-4d92-a100-56a05994123d",
   "metadata": {},
   "outputs": [
    {
     "data": {
      "text/plain": [
       "features {\n",
       "  feature {\n",
       "    key: \"age\"\n",
       "    value {\n",
       "      int64_list {\n",
       "        value: 33\n",
       "      }\n",
       "    }\n",
       "  }\n",
       "  feature {\n",
       "    key: \"name\"\n",
       "    value {\n",
       "      bytes_list {\n",
       "        value: \"gaurav\"\n",
       "      }\n",
       "    }\n",
       "  }\n",
       "}"
      ]
     },
     "execution_count": 27,
     "metadata": {},
     "output_type": "execute_result"
    }
   ],
   "source": [
    "tf.train.Example(features = tf.train.Features(feature={\"name\": tf.train.Feature(bytes_list=_bytes_features(\"gaurav\")),\n",
    "                                                      \"age\":tf.train.Feature(int64_list = _int64_feature(33))}))"
   ]
  },
  {
   "cell_type": "code",
   "execution_count": 28,
   "id": "0f36b4f8-a0c3-4823-85fb-c5ca3547e376",
   "metadata": {},
   "outputs": [],
   "source": [
    "row_example = tf.train.Example(features = tf.train.Features(feature={\"name\": tf.train.Feature(bytes_list=_bytes_features(\"gaurav\")),\n",
    "                                                      \"age\":tf.train.Feature(int64_list = _int64_feature(33))}))"
   ]
  },
  {
   "cell_type": "code",
   "execution_count": 29,
   "id": "6c046343-2ffb-4d8f-9cb3-b8e6137a6b98",
   "metadata": {},
   "outputs": [
    {
     "data": {
      "text/plain": [
       "b'\\n\"\\n\\x12\\n\\x04name\\x12\\n\\n\\x08\\n\\x06gaurav\\n\\x0c\\n\\x03age\\x12\\x05\\x1a\\x03\\n\\x01!'"
      ]
     },
     "execution_count": 29,
     "metadata": {},
     "output_type": "execute_result"
    }
   ],
   "source": [
    "row_example.SerializeToString()"
   ]
  },
  {
   "cell_type": "code",
   "execution_count": 42,
   "id": "e2164e39-7a30-4e82-913d-70bd4fdf83ff",
   "metadata": {},
   "outputs": [],
   "source": [
    "from tfx.components import CsvExampleGen"
   ]
  },
  {
   "cell_type": "code",
   "execution_count": 43,
   "id": "862c90f4-7a96-410c-9f08-700366c1bdf7",
   "metadata": {},
   "outputs": [],
   "source": [
    "csv_example_gen = CsvExampleGen(input_base=os.path.join(os.getcwd(), \"data\"))"
   ]
  },
  {
   "cell_type": "code",
   "execution_count": 44,
   "id": "ff8076be-9a6b-4d0f-b0a1-1f1f576580a1",
   "metadata": {},
   "outputs": [
    {
     "data": {
      "text/plain": [
       "CsvExampleGen(spec: <tfx.types.standard_component_specs.FileBasedExampleGenSpec object at 0x000002B69B738BE0>, executor_spec: <tfx.dsl.components.base.executor_spec.BeamExecutorSpec object at 0x000002B69B738AC8>, driver_class: <class 'tfx.components.example_gen.driver.FileBasedDriver'>, component_id: CsvExampleGen, inputs: {}, outputs: {'examples': OutputChannel(artifact_type=Examples, producer_component_id=CsvExampleGen, output_key=examples, additional_properties={}, additional_custom_properties={})})"
      ]
     },
     "execution_count": 44,
     "metadata": {},
     "output_type": "execute_result"
    }
   ],
   "source": [
    "csv_example_gen"
   ]
  },
  {
   "cell_type": "code",
   "execution_count": null,
   "id": "3ec4b975-fd57-4033-b17c-97c9b54a5384",
   "metadata": {},
   "outputs": [],
   "source": []
  }
 ],
 "metadata": {
  "kernelspec": {
   "display_name": "Python 3 (ipykernel)",
   "language": "python",
   "name": "python3"
  },
  "language_info": {
   "codemirror_mode": {
    "name": "ipython",
    "version": 3
   },
   "file_extension": ".py",
   "mimetype": "text/x-python",
   "name": "python",
   "nbconvert_exporter": "python",
   "pygments_lexer": "ipython3",
   "version": "3.7.0"
  }
 },
 "nbformat": 4,
 "nbformat_minor": 5
}
